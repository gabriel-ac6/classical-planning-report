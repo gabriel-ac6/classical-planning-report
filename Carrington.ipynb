{
  "nbformat": 4,
  "nbformat_minor": 0,
  "metadata": {
    "colab": {
      "name": "Carrington.ipynb",
      "provenance": [],
      "collapsed_sections": [],
      "authorship_tag": "ABX9TyPD2cRwOQ+lpelCqOqr8EdI",
      "include_colab_link": true
    },
    "kernelspec": {
      "name": "python3",
      "display_name": "Python 3"
    },
    "language_info": {
      "name": "python"
    }
  },
  "cells": [
    {
      "cell_type": "markdown",
      "metadata": {
        "id": "view-in-github",
        "colab_type": "text"
      },
      "source": [
        "<a href=\"https://colab.research.google.com/github/gabriel-ac6/classical-planning-report/blob/main/Carrington.ipynb\" target=\"_parent\"><img src=\"https://colab.research.google.com/assets/colab-badge.svg\" alt=\"Open In Colab\"/></a>"
      ]
    },
    {
      "cell_type": "code",
      "source": [
        "!pip install keras"
      ],
      "metadata": {
        "colab": {
          "base_uri": "https://localhost:8080/"
        },
        "id": "CEe4q0ynqxJv",
        "outputId": "e00fae46-db7c-4fb7-bf74-2e404a58e95e"
      },
      "execution_count": null,
      "outputs": [
        {
          "output_type": "stream",
          "name": "stdout",
          "text": [
            "Looking in indexes: https://pypi.org/simple, https://us-python.pkg.dev/colab-wheels/public/simple/\n",
            "Requirement already satisfied: keras in /usr/local/lib/python3.7/dist-packages (2.8.0)\n"
          ]
        }
      ]
    },
    {
      "cell_type": "code",
      "source": [
        "!pip install tensorflow"
      ],
      "metadata": {
        "colab": {
          "base_uri": "https://localhost:8080/"
        },
        "id": "px1opDjprBAq",
        "outputId": "d948d1a1-b79c-4e1e-fbe1-95a9338b64ff"
      },
      "execution_count": null,
      "outputs": [
        {
          "output_type": "stream",
          "name": "stdout",
          "text": [
            "Looking in indexes: https://pypi.org/simple, https://us-python.pkg.dev/colab-wheels/public/simple/\n",
            "Requirement already satisfied: tensorflow in /usr/local/lib/python3.7/dist-packages (2.8.2+zzzcolab20220719082949)\n",
            "Requirement already satisfied: opt-einsum>=2.3.2 in /usr/local/lib/python3.7/dist-packages (from tensorflow) (3.3.0)\n",
            "Requirement already satisfied: gast>=0.2.1 in /usr/local/lib/python3.7/dist-packages (from tensorflow) (0.5.3)\n",
            "Requirement already satisfied: absl-py>=0.4.0 in /usr/local/lib/python3.7/dist-packages (from tensorflow) (1.2.0)\n",
            "Requirement already satisfied: astunparse>=1.6.0 in /usr/local/lib/python3.7/dist-packages (from tensorflow) (1.6.3)\n",
            "Requirement already satisfied: tensorboard<2.9,>=2.8 in /usr/local/lib/python3.7/dist-packages (from tensorflow) (2.8.0)\n",
            "Requirement already satisfied: google-pasta>=0.1.1 in /usr/local/lib/python3.7/dist-packages (from tensorflow) (0.2.0)\n",
            "Requirement already satisfied: six>=1.12.0 in /usr/local/lib/python3.7/dist-packages (from tensorflow) (1.15.0)\n",
            "Requirement already satisfied: grpcio<2.0,>=1.24.3 in /usr/local/lib/python3.7/dist-packages (from tensorflow) (1.47.0)\n",
            "Requirement already satisfied: protobuf<3.20,>=3.9.2 in /usr/local/lib/python3.7/dist-packages (from tensorflow) (3.17.3)\n",
            "Requirement already satisfied: numpy>=1.20 in /usr/local/lib/python3.7/dist-packages (from tensorflow) (1.21.6)\n",
            "Requirement already satisfied: wrapt>=1.11.0 in /usr/local/lib/python3.7/dist-packages (from tensorflow) (1.14.1)\n",
            "Requirement already satisfied: setuptools in /usr/local/lib/python3.7/dist-packages (from tensorflow) (57.4.0)\n",
            "Requirement already satisfied: tensorflow-estimator<2.9,>=2.8 in /usr/local/lib/python3.7/dist-packages (from tensorflow) (2.8.0)\n",
            "Requirement already satisfied: h5py>=2.9.0 in /usr/local/lib/python3.7/dist-packages (from tensorflow) (3.1.0)\n",
            "Requirement already satisfied: keras<2.9,>=2.8.0rc0 in /usr/local/lib/python3.7/dist-packages (from tensorflow) (2.8.0)\n",
            "Requirement already satisfied: libclang>=9.0.1 in /usr/local/lib/python3.7/dist-packages (from tensorflow) (14.0.6)\n",
            "Requirement already satisfied: tensorflow-io-gcs-filesystem>=0.23.1 in /usr/local/lib/python3.7/dist-packages (from tensorflow) (0.26.0)\n",
            "Requirement already satisfied: termcolor>=1.1.0 in /usr/local/lib/python3.7/dist-packages (from tensorflow) (1.1.0)\n",
            "Requirement already satisfied: flatbuffers>=1.12 in /usr/local/lib/python3.7/dist-packages (from tensorflow) (2.0)\n",
            "Requirement already satisfied: typing-extensions>=3.6.6 in /usr/local/lib/python3.7/dist-packages (from tensorflow) (4.1.1)\n",
            "Requirement already satisfied: keras-preprocessing>=1.1.1 in /usr/local/lib/python3.7/dist-packages (from tensorflow) (1.1.2)\n",
            "Requirement already satisfied: wheel<1.0,>=0.23.0 in /usr/local/lib/python3.7/dist-packages (from astunparse>=1.6.0->tensorflow) (0.37.1)\n",
            "Requirement already satisfied: cached-property in /usr/local/lib/python3.7/dist-packages (from h5py>=2.9.0->tensorflow) (1.5.2)\n",
            "Requirement already satisfied: google-auth-oauthlib<0.5,>=0.4.1 in /usr/local/lib/python3.7/dist-packages (from tensorboard<2.9,>=2.8->tensorflow) (0.4.6)\n",
            "Requirement already satisfied: requests<3,>=2.21.0 in /usr/local/lib/python3.7/dist-packages (from tensorboard<2.9,>=2.8->tensorflow) (2.23.0)\n",
            "Requirement already satisfied: google-auth<3,>=1.6.3 in /usr/local/lib/python3.7/dist-packages (from tensorboard<2.9,>=2.8->tensorflow) (1.35.0)\n",
            "Requirement already satisfied: werkzeug>=0.11.15 in /usr/local/lib/python3.7/dist-packages (from tensorboard<2.9,>=2.8->tensorflow) (1.0.1)\n",
            "Requirement already satisfied: markdown>=2.6.8 in /usr/local/lib/python3.7/dist-packages (from tensorboard<2.9,>=2.8->tensorflow) (3.4.1)\n",
            "Requirement already satisfied: tensorboard-data-server<0.7.0,>=0.6.0 in /usr/local/lib/python3.7/dist-packages (from tensorboard<2.9,>=2.8->tensorflow) (0.6.1)\n",
            "Requirement already satisfied: tensorboard-plugin-wit>=1.6.0 in /usr/local/lib/python3.7/dist-packages (from tensorboard<2.9,>=2.8->tensorflow) (1.8.1)\n",
            "Requirement already satisfied: rsa<5,>=3.1.4 in /usr/local/lib/python3.7/dist-packages (from google-auth<3,>=1.6.3->tensorboard<2.9,>=2.8->tensorflow) (4.9)\n",
            "Requirement already satisfied: cachetools<5.0,>=2.0.0 in /usr/local/lib/python3.7/dist-packages (from google-auth<3,>=1.6.3->tensorboard<2.9,>=2.8->tensorflow) (4.2.4)\n",
            "Requirement already satisfied: pyasn1-modules>=0.2.1 in /usr/local/lib/python3.7/dist-packages (from google-auth<3,>=1.6.3->tensorboard<2.9,>=2.8->tensorflow) (0.2.8)\n",
            "Requirement already satisfied: requests-oauthlib>=0.7.0 in /usr/local/lib/python3.7/dist-packages (from google-auth-oauthlib<0.5,>=0.4.1->tensorboard<2.9,>=2.8->tensorflow) (1.3.1)\n",
            "Requirement already satisfied: importlib-metadata>=4.4 in /usr/local/lib/python3.7/dist-packages (from markdown>=2.6.8->tensorboard<2.9,>=2.8->tensorflow) (4.12.0)\n",
            "Requirement already satisfied: zipp>=0.5 in /usr/local/lib/python3.7/dist-packages (from importlib-metadata>=4.4->markdown>=2.6.8->tensorboard<2.9,>=2.8->tensorflow) (3.8.1)\n",
            "Requirement already satisfied: pyasn1<0.5.0,>=0.4.6 in /usr/local/lib/python3.7/dist-packages (from pyasn1-modules>=0.2.1->google-auth<3,>=1.6.3->tensorboard<2.9,>=2.8->tensorflow) (0.4.8)\n",
            "Requirement already satisfied: urllib3!=1.25.0,!=1.25.1,<1.26,>=1.21.1 in /usr/local/lib/python3.7/dist-packages (from requests<3,>=2.21.0->tensorboard<2.9,>=2.8->tensorflow) (1.24.3)\n",
            "Requirement already satisfied: chardet<4,>=3.0.2 in /usr/local/lib/python3.7/dist-packages (from requests<3,>=2.21.0->tensorboard<2.9,>=2.8->tensorflow) (3.0.4)\n",
            "Requirement already satisfied: idna<3,>=2.5 in /usr/local/lib/python3.7/dist-packages (from requests<3,>=2.21.0->tensorboard<2.9,>=2.8->tensorflow) (2.10)\n",
            "Requirement already satisfied: certifi>=2017.4.17 in /usr/local/lib/python3.7/dist-packages (from requests<3,>=2.21.0->tensorboard<2.9,>=2.8->tensorflow) (2022.6.15)\n",
            "Requirement already satisfied: oauthlib>=3.0.0 in /usr/local/lib/python3.7/dist-packages (from requests-oauthlib>=0.7.0->google-auth-oauthlib<0.5,>=0.4.1->tensorboard<2.9,>=2.8->tensorflow) (3.2.0)\n"
          ]
        }
      ]
    },
    {
      "cell_type": "code",
      "source": [
        "!pip install sklearn"
      ],
      "metadata": {
        "colab": {
          "base_uri": "https://localhost:8080/"
        },
        "id": "KXujFLGLqx32",
        "outputId": "8265a0b7-eb8c-4a0d-ba31-263ebac8e757"
      },
      "execution_count": null,
      "outputs": [
        {
          "output_type": "stream",
          "name": "stdout",
          "text": [
            "Looking in indexes: https://pypi.org/simple, https://us-python.pkg.dev/colab-wheels/public/simple/\n",
            "Collecting sklearn\n",
            "  Downloading sklearn-0.0.tar.gz (1.1 kB)\n",
            "Requirement already satisfied: scikit-learn in /usr/local/lib/python3.7/dist-packages (from sklearn) (1.0.2)\n",
            "Requirement already satisfied: scipy>=1.1.0 in /usr/local/lib/python3.7/dist-packages (from scikit-learn->sklearn) (1.7.3)\n",
            "Requirement already satisfied: joblib>=0.11 in /usr/local/lib/python3.7/dist-packages (from scikit-learn->sklearn) (1.1.0)\n",
            "Requirement already satisfied: numpy>=1.14.6 in /usr/local/lib/python3.7/dist-packages (from scikit-learn->sklearn) (1.21.6)\n",
            "Requirement already satisfied: threadpoolctl>=2.0.0 in /usr/local/lib/python3.7/dist-packages (from scikit-learn->sklearn) (3.1.0)\n",
            "Building wheels for collected packages: sklearn\n",
            "  Building wheel for sklearn (setup.py) ... \u001b[?25l\u001b[?25hdone\n",
            "  Created wheel for sklearn: filename=sklearn-0.0-py2.py3-none-any.whl size=1310 sha256=982e14722fa58c30a0075721f6569368dc911a94c6741a2bd52889aef4e88a61\n",
            "  Stored in directory: /root/.cache/pip/wheels/46/ef/c3/157e41f5ee1372d1be90b09f74f82b10e391eaacca8f22d33e\n",
            "Successfully built sklearn\n",
            "Installing collected packages: sklearn\n",
            "Successfully installed sklearn-0.0\n"
          ]
        }
      ]
    },
    {
      "cell_type": "code",
      "source": [
        "#https://scikit-learn.org/stable/modules/kernel_ridge.html"
      ],
      "metadata": {
        "id": "OC_xzXRJ0tdY"
      },
      "execution_count": null,
      "outputs": []
    },
    {
      "cell_type": "code",
      "source": [
        "# Importe Das Bibliotecasimport sklearn as sk\n",
        "\n",
        "import numpy as np\n",
        "import matplotlib.pylab as plt\n",
        "import matplotlib.mlab as mlab\n",
        "import pandas as pd\n",
        "import scipy.stats\n",
        "import requests\n",
        "import urllib\n",
        "import json\n",
        "import sklearn as sk\n",
        "from sklearn import cluster\n",
        "from datetime import datetime as dt_obj\n",
        "from datetime import timedelta\n",
        "from sklearn import svm\n",
        "from sklearn.model_selection import StratifiedKFold\n",
        "print(sk.__version__)"
      ],
      "metadata": {
        "colab": {
          "base_uri": "https://localhost:8080/"
        },
        "id": "b1lRcM7fx-lO",
        "outputId": "96fd51af-cf86-42d8-dc0c-3e214d0fbfdf"
      },
      "execution_count": null,
      "outputs": [
        {
          "output_type": "stream",
          "name": "stdout",
          "text": [
            "1.0.2\n"
          ]
        }
      ]
    },
    {
      "cell_type": "code",
      "source": [
        "# request the data\n",
        "baseurl = \"https://kauai.ccmc.gsfc.nasa.gov/DONKI/WS/get/FLR?\"\n",
        "t_start = \"2010-05-01\"\n",
        "t_end = \"2022-08-30\"\n",
        "url = baseurl+\"startDate=\"+t_start+\"&endDate=\"+t_end\n",
        "\n",
        "# if there's no response at this time, print warning\n",
        "response = requests.get(url)\n",
        "if response.status_code != 200:\n",
        "    print('cannot successfully get an http response')"
      ],
      "metadata": {
        "id": "tEelEVTp58g1",
        "colab": {
          "base_uri": "https://localhost:8080/",
          "height": 244
        },
        "outputId": "df22afd0-fd1f-44c9-83f5-1fcf568a1ef9"
      },
      "execution_count": 1,
      "outputs": [
        {
          "output_type": "error",
          "ename": "NameError",
          "evalue": "ignored",
          "traceback": [
            "\u001b[0;31m---------------------------------------------------------------------------\u001b[0m",
            "\u001b[0;31mNameError\u001b[0m                                 Traceback (most recent call last)",
            "\u001b[0;32m<ipython-input-1-2946014576d4>\u001b[0m in \u001b[0;36m<module>\u001b[0;34m\u001b[0m\n\u001b[1;32m      6\u001b[0m \u001b[0;34m\u001b[0m\u001b[0m\n\u001b[1;32m      7\u001b[0m \u001b[0;31m# if there's no response at this time, print warning\u001b[0m\u001b[0;34m\u001b[0m\u001b[0;34m\u001b[0m\u001b[0;34m\u001b[0m\u001b[0m\n\u001b[0;32m----> 8\u001b[0;31m \u001b[0mresponse\u001b[0m \u001b[0;34m=\u001b[0m \u001b[0mrequests\u001b[0m\u001b[0;34m.\u001b[0m\u001b[0mget\u001b[0m\u001b[0;34m(\u001b[0m\u001b[0murl\u001b[0m\u001b[0;34m)\u001b[0m\u001b[0;34m\u001b[0m\u001b[0;34m\u001b[0m\u001b[0m\n\u001b[0m\u001b[1;32m      9\u001b[0m \u001b[0;32mif\u001b[0m \u001b[0mresponse\u001b[0m\u001b[0;34m.\u001b[0m\u001b[0mstatus_code\u001b[0m \u001b[0;34m!=\u001b[0m \u001b[0;36m200\u001b[0m\u001b[0;34m:\u001b[0m\u001b[0;34m\u001b[0m\u001b[0;34m\u001b[0m\u001b[0m\n\u001b[1;32m     10\u001b[0m     \u001b[0mprint\u001b[0m\u001b[0;34m(\u001b[0m\u001b[0;34m'cannot successfully get an http response'\u001b[0m\u001b[0;34m)\u001b[0m\u001b[0;34m\u001b[0m\u001b[0;34m\u001b[0m\u001b[0m\n",
            "\u001b[0;31mNameError\u001b[0m: name 'requests' is not defined"
          ]
        }
      ]
    },
    {
      "cell_type": "code",
      "source": [
        "# read the data\n",
        "\n",
        "print(\"Getting data from\", url)\n",
        "df = pd.read_json(url)\n",
        "print(df.dtypes)"
      ],
      "metadata": {
        "colab": {
          "base_uri": "https://localhost:8080/"
        },
        "id": "N0SaA2FN6Hd9",
        "outputId": "c3bcdaa8-3bbb-42fd-e345-f9b4a4696c38"
      },
      "execution_count": null,
      "outputs": [
        {
          "output_type": "stream",
          "name": "stdout",
          "text": [
            "Getting data from https://kauai.ccmc.gsfc.nasa.gov/DONKI/WS/get/FLR?startDate=2010-05-01&endDate=2022-08-30\n",
            "flrID               object\n",
            "instruments         object\n",
            "beginTime           object\n",
            "peakTime            object\n",
            "endTime             object\n",
            "classType           object\n",
            "sourceLocation      object\n",
            "activeRegionNum    float64\n",
            "linkedEvents        object\n",
            "link                object\n",
            "dtype: object\n"
          ]
        }
      ]
    },
    {
      "cell_type": "code",
      "source": [
        ""
      ],
      "metadata": {
        "id": "D4pgbv7xyqrR"
      },
      "execution_count": null,
      "outputs": []
    },
    {
      "cell_type": "code",
      "source": [
        "print(df)"
      ],
      "metadata": {
        "colab": {
          "base_uri": "https://localhost:8080/"
        },
        "id": "l5iDEDze65XF",
        "outputId": "6baa5fb8-f57b-4f8f-edf4-b53560d1f18c"
      },
      "execution_count": null,
      "outputs": [
        {
          "output_type": "stream",
          "name": "stdout",
          "text": [
            "                           flrID  \\\n",
            "0    2010-06-12T00:30:00-FLR-001   \n",
            "1    2010-08-07T17:55:00-FLR-001   \n",
            "2    2010-08-14T09:38:00-FLR-001   \n",
            "3    2010-08-18T04:45:00-FLR-001   \n",
            "4    2010-10-16T19:07:00-FLR-001   \n",
            "..                           ...   \n",
            "860  2022-08-29T03:24:00-FLR-001   \n",
            "861  2022-08-29T10:48:00-FLR-001   \n",
            "862  2022-08-29T14:46:00-FLR-001   \n",
            "863  2022-08-29T16:15:00-FLR-001   \n",
            "864  2022-08-29T18:43:00-FLR-001   \n",
            "\n",
            "                                      instruments          beginTime  \\\n",
            "0    [{'displayName': 'GOES14: SEM/XRS 1.0-8.0'}]  2010-06-12T00:30Z   \n",
            "1    [{'displayName': 'GOES14: SEM/XRS 1.0-8.0'}]  2010-08-07T17:55Z   \n",
            "2    [{'displayName': 'GOES15: SEM/XRS 1.0-8.0'}]  2010-08-14T09:38Z   \n",
            "3    [{'displayName': 'GOES15: SEM/XRS 1.0-8.0'}]  2010-08-18T04:45Z   \n",
            "4    [{'displayName': 'GOES14: SEM/XRS 1.0-8.0'}]  2010-10-16T19:07Z   \n",
            "..                                            ...                ...   \n",
            "860     [{'displayName': 'GOES-P: EXIS 1.0-8.0'}]  2022-08-29T03:24Z   \n",
            "861     [{'displayName': 'GOES-P: EXIS 1.0-8.0'}]  2022-08-29T10:48Z   \n",
            "862     [{'displayName': 'GOES-P: EXIS 1.0-8.0'}]  2022-08-29T14:46Z   \n",
            "863     [{'displayName': 'GOES-P: EXIS 1.0-8.0'}]  2022-08-29T16:15Z   \n",
            "864     [{'displayName': 'GOES-S: EXIS 1.0-8.0'}]  2022-08-29T18:43Z   \n",
            "\n",
            "              peakTime            endTime classType sourceLocation  \\\n",
            "0    2010-06-12T00:57Z  2010-06-12T01:02Z      M2.0         N22W43   \n",
            "1    2010-08-07T18:24Z  2010-08-07T18:47Z      M1.0         N14E37   \n",
            "2    2010-08-14T10:05Z  2010-08-14T10:31Z      C4.4         N11W65   \n",
            "3    2010-08-18T05:48Z  2010-08-18T06:51Z      C4.5         N18W88   \n",
            "4    2010-10-16T19:12Z  2010-10-16T19:15Z      M2.9         S20W26   \n",
            "..                 ...                ...       ...            ...   \n",
            "860  2022-08-29T03:38Z  2022-08-29T03:47Z      M3.3         S27W89   \n",
            "861  2022-08-29T11:07Z  2022-08-29T11:12Z      M8.6         S27W93   \n",
            "862  2022-08-29T14:56Z  2022-08-29T15:08Z      M2.5         S25W95   \n",
            "863  2022-08-29T16:39Z  2022-08-29T17:51Z      M3.8         S27W95   \n",
            "864  2022-08-29T18:57Z  2022-08-29T19:13Z      M4.7         S27W98   \n",
            "\n",
            "     activeRegionNum                                     linkedEvents  \\\n",
            "0            11081.0                                             None   \n",
            "1            11093.0                                             None   \n",
            "2            11093.0  [{'activityID': '2010-08-14T12:30:00-SEP-001'}]   \n",
            "3            11099.0  [{'activityID': '2010-08-18T06:00:00-CME-001'}]   \n",
            "4            11112.0                                             None   \n",
            "..               ...                                              ...   \n",
            "860          13088.0                                             None   \n",
            "861          13088.0                                             None   \n",
            "862          13088.0                                             None   \n",
            "863          13088.0  [{'activityID': '2022-08-29T17:12:00-CME-001'}]   \n",
            "864          13088.0                                             None   \n",
            "\n",
            "                                                  link  \n",
            "0    https://kauai.ccmc.gsfc.nasa.gov/DONKI/view/FL...  \n",
            "1    https://kauai.ccmc.gsfc.nasa.gov/DONKI/view/FL...  \n",
            "2    https://kauai.ccmc.gsfc.nasa.gov/DONKI/view/FL...  \n",
            "3    https://kauai.ccmc.gsfc.nasa.gov/DONKI/view/FL...  \n",
            "4    https://kauai.ccmc.gsfc.nasa.gov/DONKI/view/FL...  \n",
            "..                                                 ...  \n",
            "860  https://kauai.ccmc.gsfc.nasa.gov/DONKI/view/FL...  \n",
            "861  https://kauai.ccmc.gsfc.nasa.gov/DONKI/view/FL...  \n",
            "862  https://kauai.ccmc.gsfc.nasa.gov/DONKI/view/FL...  \n",
            "863  https://kauai.ccmc.gsfc.nasa.gov/DONKI/view/FL...  \n",
            "864  https://kauai.ccmc.gsfc.nasa.gov/DONKI/view/FL...  \n",
            "\n",
            "[865 rows x 10 columns]\n"
          ]
        }
      ]
    },
    {
      "cell_type": "code",
      "source": [
        "# request the data\n",
        "baseurlCME = \"https://kauai.ccmc.gsfc.nasa.gov/DONKI/WS/get/CME?\"\n",
        "t_startCME = \"2010-05-01\"\n",
        "t_endCME = \"2022-08-30\"\n",
        "urlCME = baseurlCME+\"startDate=\"+t_startCME+\"&endDate=\"+t_endCME\n",
        "\n",
        "# if there's no response at this time, print warning\n",
        "response = requests.get(urlCME)\n",
        "if response.status_code != 200:\n",
        "    print('cannot successfully get an http response')"
      ],
      "metadata": {
        "id": "NJGAX4rbyH--"
      },
      "execution_count": null,
      "outputs": []
    },
    {
      "cell_type": "code",
      "source": [
        "# read the data\n",
        "\n",
        "print(\"Getting data from\", url)\n",
        "dfCME = pd.read_json(url)\n",
        "print(df.dtypes)"
      ],
      "metadata": {
        "colab": {
          "base_uri": "https://localhost:8080/"
        },
        "id": "68TD7JIsyKPz",
        "outputId": "20e6ba95-1ba8-45e7-e6b9-b4cf7b4cf68c"
      },
      "execution_count": null,
      "outputs": [
        {
          "output_type": "stream",
          "name": "stdout",
          "text": [
            "Getting data from https://kauai.ccmc.gsfc.nasa.gov/DONKI/WS/get/CME?startDate=2010-05-01&endDate=2022-08-30\n",
            "flrID               object\n",
            "instruments         object\n",
            "beginTime           object\n",
            "peakTime            object\n",
            "endTime             object\n",
            "classType           object\n",
            "sourceLocation      object\n",
            "activeRegionNum    float64\n",
            "linkedEvents        object\n",
            "link                object\n",
            "dtype: object\n"
          ]
        }
      ]
    },
    {
      "cell_type": "code",
      "source": [
        "print(dfCME)"
      ],
      "metadata": {
        "colab": {
          "base_uri": "https://localhost:8080/"
        },
        "id": "xR9HmJ1A7DiA",
        "outputId": "c0ccd222-a919-472a-b786-28e69c73a5dd"
      },
      "execution_count": null,
      "outputs": [
        {
          "output_type": "stream",
          "name": "stdout",
          "text": [
            "                       activityID      catalog          startTime  \\\n",
            "0     2010-06-13T07:32:00-CME-001  M2M_CATALOG  2010-06-13T07:32Z   \n",
            "1     2010-06-20T03:18:00-CME-001  M2M_CATALOG  2010-06-20T03:18Z   \n",
            "2     2010-07-03T01:30:00-CME-001  M2M_CATALOG  2010-07-03T01:30Z   \n",
            "3     2010-07-08T22:30:00-CME-001  M2M_CATALOG  2010-07-08T22:30Z   \n",
            "4     2010-07-29T08:24:00-CME-001  M2M_CATALOG  2010-07-29T08:24Z   \n",
            "...                           ...          ...                ...   \n",
            "4119  2022-08-29T06:24:00-CME-001  M2M_CATALOG  2022-08-29T06:24Z   \n",
            "4120  2022-08-29T07:36:00-CME-001  M2M_CATALOG  2022-08-29T07:36Z   \n",
            "4121  2022-08-29T14:48:00-CME-001  M2M_CATALOG  2022-08-29T14:48Z   \n",
            "4122  2022-08-29T15:36:00-CME-001  M2M_CATALOG  2022-08-29T15:36Z   \n",
            "4123  2022-08-29T17:12:00-CME-001  M2M_CATALOG  2022-08-29T17:12Z   \n",
            "\n",
            "     sourceLocation  activeRegionNum  \\\n",
            "0                                NaN   \n",
            "1                                NaN   \n",
            "2                                NaN   \n",
            "3                                NaN   \n",
            "4                                NaN   \n",
            "...             ...              ...   \n",
            "4119         N25E70              NaN   \n",
            "4120                             NaN   \n",
            "4121         S20E00              NaN   \n",
            "4122         S27W97          13088.0   \n",
            "4123         S27W95          13088.0   \n",
            "\n",
            "                                                   link  \\\n",
            "0     https://kauai.ccmc.gsfc.nasa.gov/DONKI/view/CM...   \n",
            "1     https://kauai.ccmc.gsfc.nasa.gov/DONKI/view/CM...   \n",
            "2     https://kauai.ccmc.gsfc.nasa.gov/DONKI/view/CM...   \n",
            "3     https://kauai.ccmc.gsfc.nasa.gov/DONKI/view/CM...   \n",
            "4     https://kauai.ccmc.gsfc.nasa.gov/DONKI/view/CM...   \n",
            "...                                                 ...   \n",
            "4119  https://kauai.ccmc.gsfc.nasa.gov/DONKI/view/CM...   \n",
            "4120  https://kauai.ccmc.gsfc.nasa.gov/DONKI/view/CM...   \n",
            "4121  https://kauai.ccmc.gsfc.nasa.gov/DONKI/view/CM...   \n",
            "4122  https://kauai.ccmc.gsfc.nasa.gov/DONKI/view/CM...   \n",
            "4123  https://kauai.ccmc.gsfc.nasa.gov/DONKI/view/CM...   \n",
            "\n",
            "                                                   note  \\\n",
            "0     http://cdaw.gsfc.nasa.gov/movie/make_javamovie...   \n",
            "1                                                         \n",
            "2     http://cdaw.gsfc.nasa.gov/movie/make_javamovie...   \n",
            "3     http://cdaw.gsfc.nasa.gov/movie/make_javamovie...   \n",
            "4     real-time detecting instruments unknown\\n\\nmin...   \n",
            "...                                                 ...   \n",
            "4119  This CME is visible to the NE in SOHO LASCO C2...   \n",
            "4120  Visible in the SE in SOHO LASCO C2 and STEREO ...   \n",
            "4121  Partial halo very faintly visible in SOHO LASC...   \n",
            "4122  Jet-like CME visible in SOHO LASCO C2 and STER...   \n",
            "4123  Visible in the W in SOHO LASCO C2 and STEREO A...   \n",
            "\n",
            "                                            instruments  \\\n",
            "0     [{'displayName': 'SOHO: LASCO/C2'}, {'displayN...   \n",
            "1     [{'displayName': 'SOHO: LASCO/C2'}, {'displayN...   \n",
            "2                   [{'displayName': 'SOHO: LASCO/C2'}]   \n",
            "3                   [{'displayName': 'SOHO: LASCO/C2'}]   \n",
            "4            [{'displayName': 'STEREO A: SECCHI/COR2'}]   \n",
            "...                                                 ...   \n",
            "4119  [{'displayName': 'SOHO: LASCO/C2'}, {'displayN...   \n",
            "4120  [{'displayName': 'SOHO: LASCO/C2'}, {'displayN...   \n",
            "4121  [{'displayName': 'SOHO: LASCO/C2'}, {'displayN...   \n",
            "4122  [{'displayName': 'SOHO: LASCO/C2'}, {'displayN...   \n",
            "4123  [{'displayName': 'SOHO: LASCO/C2'}, {'displayN...   \n",
            "\n",
            "                                            cmeAnalyses  \\\n",
            "0     [{'time21_5': '2010-06-13T16:42Z', 'latitude':...   \n",
            "1     [{'time21_5': '2010-06-20T07:00Z', 'latitude':...   \n",
            "2     [{'time21_5': '2010-07-03T13:30Z', 'latitude':...   \n",
            "3     [{'time21_5': '2010-07-09T07:30Z', 'latitude':...   \n",
            "4     [{'time21_5': '2010-07-29T23:30Z', 'latitude':...   \n",
            "...                                                 ...   \n",
            "4119  [{'time21_5': '2022-08-29T10:00Z', 'latitude':...   \n",
            "4120  [{'time21_5': '2022-08-29T12:29Z', 'latitude':...   \n",
            "4121  [{'time21_5': '2022-08-30T03:35Z', 'latitude':...   \n",
            "4122  [{'time21_5': '2022-08-29T19:10Z', 'latitude':...   \n",
            "4123  [{'time21_5': '2022-08-29T20:46Z', 'latitude':...   \n",
            "\n",
            "                                         linkedEvents  \n",
            "0                                                None  \n",
            "1     [{'activityID': '2010-06-23T08:00:00-IPS-001'}]  \n",
            "2                                                None  \n",
            "3                                                None  \n",
            "4                                                None  \n",
            "...                                               ...  \n",
            "4119                                             None  \n",
            "4120                                             None  \n",
            "4121                                             None  \n",
            "4122                                             None  \n",
            "4123  [{'activityID': '2022-08-29T16:15:00-FLR-001'}]  \n",
            "\n",
            "[4124 rows x 10 columns]\n"
          ]
        }
      ]
    },
    {
      "cell_type": "code",
      "source": [
        "# request the data\n",
        "baseurlAN = \"https://kauai.ccmc.gsfc.nasa.gov/DONKI/WS/get/CMEAnalysis?\"\n",
        "t_startAN = \"2010-05-01\"\n",
        "t_endAN = \"2022-08-30\"\n",
        "urlAN = baseurlAN+\"startDate=\"+t_startAN+\"&endDate=\"+t_endAN\n",
        "\n",
        "# if there's no response at this time, print warning\n",
        "response = requests.get(urlAN)\n",
        "if response.status_code != 200:     \n",
        "    print('cannot successfully get an http response')"
      ],
      "metadata": {
        "id": "rJVv33Rh88vb"
      },
      "execution_count": null,
      "outputs": []
    },
    {
      "cell_type": "code",
      "source": [
        "# read the data\n",
        "\n",
        "print(\"Getting data from\", url)\n",
        "dfAN = pd.read_json(urlAN)\n",
        "print(dfAN.dtypes)"
      ],
      "metadata": {
        "colab": {
          "base_uri": "https://localhost:8080/"
        },
        "id": "4gd8C_5c9LyZ",
        "outputId": "0720d59d-f45d-41e5-99b1-42754d032388"
      },
      "execution_count": null,
      "outputs": [
        {
          "output_type": "stream",
          "name": "stdout",
          "text": [
            "Getting data from https://kauai.ccmc.gsfc.nasa.gov/DONKI/WS/get/CMEAnalysis?startDate=2010-05-01&endDate=2022-08-30\n",
            "time21_5            object\n",
            "latitude           float64\n",
            "longitude          float64\n",
            "halfAngle          float64\n",
            "speed              float64\n",
            "type                object\n",
            "isMostAccurate        bool\n",
            "associatedCMEID     object\n",
            "note                object\n",
            "catalog             object\n",
            "link                object\n",
            "dtype: object\n"
          ]
        }
      ]
    },
    {
      "cell_type": "code",
      "source": [
        "print(dfAN)"
      ],
      "metadata": {
        "colab": {
          "base_uri": "https://localhost:8080/"
        },
        "id": "SdD8O5zV9MOM",
        "outputId": "4c93cccb-af2f-42a6-dd8f-468a8d5e2926"
      },
      "execution_count": null,
      "outputs": [
        {
          "output_type": "stream",
          "name": "stdout",
          "text": [
            "               time21_5  latitude  longitude  halfAngle   speed type  \\\n",
            "0     2010-06-13T16:42Z      17.0      117.0       30.0   500.0    C   \n",
            "1     2010-06-20T07:00Z     -13.0      -80.0       20.0   570.0    C   \n",
            "2     2010-07-03T13:30Z      -4.0       35.0       23.0   625.0    C   \n",
            "3     2010-07-09T07:30Z     -15.0      126.0       20.0   290.0    S   \n",
            "4     2010-07-29T23:30Z     -19.0      -71.0       21.0   350.0    S   \n",
            "...                 ...       ...        ...        ...     ...  ...   \n",
            "3788  2022-08-29T10:00Z      52.0      -43.0       23.0   880.0    C   \n",
            "3789  2022-08-29T12:29Z     -30.0      -90.0       11.0   774.0    C   \n",
            "3790  2022-08-30T03:35Z      -1.0       -1.0       45.0   256.0    S   \n",
            "3791  2022-08-29T19:10Z     -43.0      114.0       12.0  1149.0    O   \n",
            "3792  2022-08-29T20:46Z     -18.0       97.0       30.0   949.0    C   \n",
            "\n",
            "      isMostAccurate              associatedCMEID  \\\n",
            "0               True  2010-06-13T07:32:00-CME-001   \n",
            "1               True  2010-06-20T03:18:00-CME-001   \n",
            "2               True  2010-07-03T01:30:00-CME-001   \n",
            "3               True  2010-07-08T22:30:00-CME-001   \n",
            "4               True  2010-07-29T08:24:00-CME-001   \n",
            "...              ...                          ...   \n",
            "3788            True  2022-08-29T06:24:00-CME-001   \n",
            "3789            True  2022-08-29T07:36:00-CME-001   \n",
            "3790            True  2022-08-29T14:48:00-CME-001   \n",
            "3791            True  2022-08-29T15:36:00-CME-001   \n",
            "3792            True  2022-08-29T17:12:00-CME-001   \n",
            "\n",
            "                                                   note      catalog  \\\n",
            "0                                                        M2M_CATALOG   \n",
            "1                                                        M2M_CATALOG   \n",
            "2                                                        M2M_CATALOG   \n",
            "3                                                        M2M_CATALOG   \n",
            "4                                                        M2M_CATALOG   \n",
            "...                                                 ...          ...   \n",
            "3788  These parameters are based off of the best fit...  M2M_CATALOG   \n",
            "3789  Preliminary measurement with limited coronagra...  M2M_CATALOG   \n",
            "3790  Difficult to measure because it is so faint, e...  M2M_CATALOG   \n",
            "3791                                                     M2M_CATALOG   \n",
            "3792  Remeasured with more data, including 2 frames ...  M2M_CATALOG   \n",
            "\n",
            "                                                   link  \n",
            "0     https://kauai.ccmc.gsfc.nasa.gov/DONKI/view/CM...  \n",
            "1     https://kauai.ccmc.gsfc.nasa.gov/DONKI/view/CM...  \n",
            "2     https://kauai.ccmc.gsfc.nasa.gov/DONKI/view/CM...  \n",
            "3     https://kauai.ccmc.gsfc.nasa.gov/DONKI/view/CM...  \n",
            "4     https://kauai.ccmc.gsfc.nasa.gov/DONKI/view/CM...  \n",
            "...                                                 ...  \n",
            "3788  https://kauai.ccmc.gsfc.nasa.gov/DONKI/view/CM...  \n",
            "3789  https://kauai.ccmc.gsfc.nasa.gov/DONKI/view/CM...  \n",
            "3790  https://kauai.ccmc.gsfc.nasa.gov/DONKI/view/CM...  \n",
            "3791  https://kauai.ccmc.gsfc.nasa.gov/DONKI/view/CM...  \n",
            "3792  https://kauai.ccmc.gsfc.nasa.gov/DONKI/view/CM...  \n",
            "\n",
            "[3793 rows x 11 columns]\n"
          ]
        }
      ]
    },
    {
      "cell_type": "code",
      "source": [
        "import csv\n",
        "\n",
        "# 1. cria o arquivo\n",
        "f = open('numero_dobro_triplo.csv', 'w', newline='', encoding='utf-8')\n",
        "\n",
        "# 2. cria o objeto de gravação\n",
        "w = csv.writer(f)\n",
        "\n",
        "# 3. grava as linhas\n",
        "w.writerow(df)"
      ],
      "metadata": {
        "colab": {
          "base_uri": "https://localhost:8080/"
        },
        "id": "0EkU8Fsq3hzS",
        "outputId": "b5f4d364-77d4-4775-cda5-3c7c9aa34f5b"
      },
      "execution_count": null,
      "outputs": [
        {
          "output_type": "execute_result",
          "data": {
            "text/plain": [
              "108"
            ]
          },
          "metadata": {},
          "execution_count": 24
        }
      ]
    },
    {
      "cell_type": "code",
      "source": [
        "try:\n",
        "    nome_arquivo = input('Teste:')\n",
        "    arquivo = open(nome_arquivo, 'r+')\n",
        "except FileNotFoundError:\n",
        "    arquivo = open(nome_arquivo, 'w+')\n",
        "    arquivo.writelines(u'Teste.txt')\n",
        "#faca o que quiser\n",
        "arquivo.close()"
      ],
      "metadata": {
        "colab": {
          "base_uri": "https://localhost:8080/"
        },
        "id": "Rt9JQlGJ0oXe",
        "outputId": "6edcef89-7c27-4de4-abb7-dcbde7962334"
      },
      "execution_count": null,
      "outputs": [
        {
          "name": "stdout",
          "output_type": "stream",
          "text": [
            "Teste:Teste\n"
          ]
        }
      ]
    },
    {
      "cell_type": "code",
      "source": [
        "# Inicio do código para predição dos ventos solares"
      ],
      "metadata": {
        "id": "1SM-ht4ZYvcR"
      },
      "execution_count": null,
      "outputs": []
    },
    {
      "cell_type": "code",
      "source": [
        "# Dados retirados da APIs DONKI da NASA \n",
        "\n",
        "#Coronal Mass Ejection (CME) Analysis and Geomagnetic Storm (GST):\n",
        "#calculate the angulo + Kp + Vel + longitude + latitude = final variable\n",
        "\n",
        "df= pd.read_csv(\"TempestaV.csv\")\n",
        "\n",
        "# predição através das dados deste site"
      ],
      "metadata": {
        "id": "XpfunabiZMvq",
        "colab": {
          "base_uri": "https://localhost:8080/",
          "height": 323
        },
        "outputId": "edadb680-584e-4ffb-df08-90d49540b37b"
      },
      "execution_count": null,
      "outputs": [
        {
          "output_type": "error",
          "ename": "EmptyDataError",
          "evalue": "ignored",
          "traceback": [
            "\u001b[0;31m---------------------------------------------------------------------------\u001b[0m",
            "\u001b[0;31mEmptyDataError\u001b[0m                            Traceback (most recent call last)",
            "\u001b[0;32m<ipython-input-51-807e2f5e19f4>\u001b[0m in \u001b[0;36m<module>\u001b[0;34m\u001b[0m\n\u001b[1;32m      1\u001b[0m \u001b[0;31m# Dados retirados do site Apolo 11 - https://www.apolo11.com/atividade_solar.php\u001b[0m\u001b[0;34m\u001b[0m\u001b[0;34m\u001b[0m\u001b[0;34m\u001b[0m\u001b[0m\n\u001b[1;32m      2\u001b[0m \u001b[0;34m\u001b[0m\u001b[0m\n\u001b[0;32m----> 3\u001b[0;31m \u001b[0mdf\u001b[0m\u001b[0;34m=\u001b[0m \u001b[0mpd\u001b[0m\u001b[0;34m.\u001b[0m\u001b[0mread_csv\u001b[0m\u001b[0;34m(\u001b[0m\u001b[0;34m\"TempestaV.csv\"\u001b[0m\u001b[0;34m)\u001b[0m\u001b[0;34m\u001b[0m\u001b[0;34m\u001b[0m\u001b[0m\n\u001b[0m\u001b[1;32m      4\u001b[0m \u001b[0;34m\u001b[0m\u001b[0m\n\u001b[1;32m      5\u001b[0m \u001b[0;31m# predição através das dados deste site\u001b[0m\u001b[0;34m\u001b[0m\u001b[0;34m\u001b[0m\u001b[0;34m\u001b[0m\u001b[0m\n",
            "\u001b[0;32m/usr/local/lib/python3.7/dist-packages/pandas/util/_decorators.py\u001b[0m in \u001b[0;36mwrapper\u001b[0;34m(*args, **kwargs)\u001b[0m\n\u001b[1;32m    309\u001b[0m                     \u001b[0mstacklevel\u001b[0m\u001b[0;34m=\u001b[0m\u001b[0mstacklevel\u001b[0m\u001b[0;34m,\u001b[0m\u001b[0;34m\u001b[0m\u001b[0;34m\u001b[0m\u001b[0m\n\u001b[1;32m    310\u001b[0m                 )\n\u001b[0;32m--> 311\u001b[0;31m             \u001b[0;32mreturn\u001b[0m \u001b[0mfunc\u001b[0m\u001b[0;34m(\u001b[0m\u001b[0;34m*\u001b[0m\u001b[0margs\u001b[0m\u001b[0;34m,\u001b[0m \u001b[0;34m**\u001b[0m\u001b[0mkwargs\u001b[0m\u001b[0;34m)\u001b[0m\u001b[0;34m\u001b[0m\u001b[0;34m\u001b[0m\u001b[0m\n\u001b[0m\u001b[1;32m    312\u001b[0m \u001b[0;34m\u001b[0m\u001b[0m\n\u001b[1;32m    313\u001b[0m         \u001b[0;32mreturn\u001b[0m \u001b[0mwrapper\u001b[0m\u001b[0;34m\u001b[0m\u001b[0;34m\u001b[0m\u001b[0m\n",
            "\u001b[0;32m/usr/local/lib/python3.7/dist-packages/pandas/io/parsers/readers.py\u001b[0m in \u001b[0;36mread_csv\u001b[0;34m(filepath_or_buffer, sep, delimiter, header, names, index_col, usecols, squeeze, prefix, mangle_dupe_cols, dtype, engine, converters, true_values, false_values, skipinitialspace, skiprows, skipfooter, nrows, na_values, keep_default_na, na_filter, verbose, skip_blank_lines, parse_dates, infer_datetime_format, keep_date_col, date_parser, dayfirst, cache_dates, iterator, chunksize, compression, thousands, decimal, lineterminator, quotechar, quoting, doublequote, escapechar, comment, encoding, encoding_errors, dialect, error_bad_lines, warn_bad_lines, on_bad_lines, delim_whitespace, low_memory, memory_map, float_precision, storage_options)\u001b[0m\n\u001b[1;32m    584\u001b[0m     \u001b[0mkwds\u001b[0m\u001b[0;34m.\u001b[0m\u001b[0mupdate\u001b[0m\u001b[0;34m(\u001b[0m\u001b[0mkwds_defaults\u001b[0m\u001b[0;34m)\u001b[0m\u001b[0;34m\u001b[0m\u001b[0;34m\u001b[0m\u001b[0m\n\u001b[1;32m    585\u001b[0m \u001b[0;34m\u001b[0m\u001b[0m\n\u001b[0;32m--> 586\u001b[0;31m     \u001b[0;32mreturn\u001b[0m \u001b[0m_read\u001b[0m\u001b[0;34m(\u001b[0m\u001b[0mfilepath_or_buffer\u001b[0m\u001b[0;34m,\u001b[0m \u001b[0mkwds\u001b[0m\u001b[0;34m)\u001b[0m\u001b[0;34m\u001b[0m\u001b[0;34m\u001b[0m\u001b[0m\n\u001b[0m\u001b[1;32m    587\u001b[0m \u001b[0;34m\u001b[0m\u001b[0m\n\u001b[1;32m    588\u001b[0m \u001b[0;34m\u001b[0m\u001b[0m\n",
            "\u001b[0;32m/usr/local/lib/python3.7/dist-packages/pandas/io/parsers/readers.py\u001b[0m in \u001b[0;36m_read\u001b[0;34m(filepath_or_buffer, kwds)\u001b[0m\n\u001b[1;32m    480\u001b[0m \u001b[0;34m\u001b[0m\u001b[0m\n\u001b[1;32m    481\u001b[0m     \u001b[0;31m# Create the parser.\u001b[0m\u001b[0;34m\u001b[0m\u001b[0;34m\u001b[0m\u001b[0;34m\u001b[0m\u001b[0m\n\u001b[0;32m--> 482\u001b[0;31m     \u001b[0mparser\u001b[0m \u001b[0;34m=\u001b[0m \u001b[0mTextFileReader\u001b[0m\u001b[0;34m(\u001b[0m\u001b[0mfilepath_or_buffer\u001b[0m\u001b[0;34m,\u001b[0m \u001b[0;34m**\u001b[0m\u001b[0mkwds\u001b[0m\u001b[0;34m)\u001b[0m\u001b[0;34m\u001b[0m\u001b[0;34m\u001b[0m\u001b[0m\n\u001b[0m\u001b[1;32m    483\u001b[0m \u001b[0;34m\u001b[0m\u001b[0m\n\u001b[1;32m    484\u001b[0m     \u001b[0;32mif\u001b[0m \u001b[0mchunksize\u001b[0m \u001b[0;32mor\u001b[0m \u001b[0miterator\u001b[0m\u001b[0;34m:\u001b[0m\u001b[0;34m\u001b[0m\u001b[0;34m\u001b[0m\u001b[0m\n",
            "\u001b[0;32m/usr/local/lib/python3.7/dist-packages/pandas/io/parsers/readers.py\u001b[0m in \u001b[0;36m__init__\u001b[0;34m(self, f, engine, **kwds)\u001b[0m\n\u001b[1;32m    809\u001b[0m             \u001b[0mself\u001b[0m\u001b[0;34m.\u001b[0m\u001b[0moptions\u001b[0m\u001b[0;34m[\u001b[0m\u001b[0;34m\"has_index_names\"\u001b[0m\u001b[0;34m]\u001b[0m \u001b[0;34m=\u001b[0m \u001b[0mkwds\u001b[0m\u001b[0;34m[\u001b[0m\u001b[0;34m\"has_index_names\"\u001b[0m\u001b[0;34m]\u001b[0m\u001b[0;34m\u001b[0m\u001b[0;34m\u001b[0m\u001b[0m\n\u001b[1;32m    810\u001b[0m \u001b[0;34m\u001b[0m\u001b[0m\n\u001b[0;32m--> 811\u001b[0;31m         \u001b[0mself\u001b[0m\u001b[0;34m.\u001b[0m\u001b[0m_engine\u001b[0m \u001b[0;34m=\u001b[0m \u001b[0mself\u001b[0m\u001b[0;34m.\u001b[0m\u001b[0m_make_engine\u001b[0m\u001b[0;34m(\u001b[0m\u001b[0mself\u001b[0m\u001b[0;34m.\u001b[0m\u001b[0mengine\u001b[0m\u001b[0;34m)\u001b[0m\u001b[0;34m\u001b[0m\u001b[0;34m\u001b[0m\u001b[0m\n\u001b[0m\u001b[1;32m    812\u001b[0m \u001b[0;34m\u001b[0m\u001b[0m\n\u001b[1;32m    813\u001b[0m     \u001b[0;32mdef\u001b[0m \u001b[0mclose\u001b[0m\u001b[0;34m(\u001b[0m\u001b[0mself\u001b[0m\u001b[0;34m)\u001b[0m\u001b[0;34m:\u001b[0m\u001b[0;34m\u001b[0m\u001b[0;34m\u001b[0m\u001b[0m\n",
            "\u001b[0;32m/usr/local/lib/python3.7/dist-packages/pandas/io/parsers/readers.py\u001b[0m in \u001b[0;36m_make_engine\u001b[0;34m(self, engine)\u001b[0m\n\u001b[1;32m   1038\u001b[0m             )\n\u001b[1;32m   1039\u001b[0m         \u001b[0;31m# error: Too many arguments for \"ParserBase\"\u001b[0m\u001b[0;34m\u001b[0m\u001b[0;34m\u001b[0m\u001b[0;34m\u001b[0m\u001b[0m\n\u001b[0;32m-> 1040\u001b[0;31m         \u001b[0;32mreturn\u001b[0m \u001b[0mmapping\u001b[0m\u001b[0;34m[\u001b[0m\u001b[0mengine\u001b[0m\u001b[0;34m]\u001b[0m\u001b[0;34m(\u001b[0m\u001b[0mself\u001b[0m\u001b[0;34m.\u001b[0m\u001b[0mf\u001b[0m\u001b[0;34m,\u001b[0m \u001b[0;34m**\u001b[0m\u001b[0mself\u001b[0m\u001b[0;34m.\u001b[0m\u001b[0moptions\u001b[0m\u001b[0;34m)\u001b[0m  \u001b[0;31m# type: ignore[call-arg]\u001b[0m\u001b[0;34m\u001b[0m\u001b[0;34m\u001b[0m\u001b[0m\n\u001b[0m\u001b[1;32m   1041\u001b[0m \u001b[0;34m\u001b[0m\u001b[0m\n\u001b[1;32m   1042\u001b[0m     \u001b[0;32mdef\u001b[0m \u001b[0m_failover_to_python\u001b[0m\u001b[0;34m(\u001b[0m\u001b[0mself\u001b[0m\u001b[0;34m)\u001b[0m\u001b[0;34m:\u001b[0m\u001b[0;34m\u001b[0m\u001b[0;34m\u001b[0m\u001b[0m\n",
            "\u001b[0;32m/usr/local/lib/python3.7/dist-packages/pandas/io/parsers/c_parser_wrapper.py\u001b[0m in \u001b[0;36m__init__\u001b[0;34m(self, src, **kwds)\u001b[0m\n\u001b[1;32m     67\u001b[0m         \u001b[0mkwds\u001b[0m\u001b[0;34m[\u001b[0m\u001b[0;34m\"dtype\"\u001b[0m\u001b[0;34m]\u001b[0m \u001b[0;34m=\u001b[0m \u001b[0mensure_dtype_objs\u001b[0m\u001b[0;34m(\u001b[0m\u001b[0mkwds\u001b[0m\u001b[0;34m.\u001b[0m\u001b[0mget\u001b[0m\u001b[0;34m(\u001b[0m\u001b[0;34m\"dtype\"\u001b[0m\u001b[0;34m,\u001b[0m \u001b[0;32mNone\u001b[0m\u001b[0;34m)\u001b[0m\u001b[0;34m)\u001b[0m\u001b[0;34m\u001b[0m\u001b[0;34m\u001b[0m\u001b[0m\n\u001b[1;32m     68\u001b[0m         \u001b[0;32mtry\u001b[0m\u001b[0;34m:\u001b[0m\u001b[0;34m\u001b[0m\u001b[0;34m\u001b[0m\u001b[0m\n\u001b[0;32m---> 69\u001b[0;31m             \u001b[0mself\u001b[0m\u001b[0;34m.\u001b[0m\u001b[0m_reader\u001b[0m \u001b[0;34m=\u001b[0m \u001b[0mparsers\u001b[0m\u001b[0;34m.\u001b[0m\u001b[0mTextReader\u001b[0m\u001b[0;34m(\u001b[0m\u001b[0mself\u001b[0m\u001b[0;34m.\u001b[0m\u001b[0mhandles\u001b[0m\u001b[0;34m.\u001b[0m\u001b[0mhandle\u001b[0m\u001b[0;34m,\u001b[0m \u001b[0;34m**\u001b[0m\u001b[0mkwds\u001b[0m\u001b[0;34m)\u001b[0m\u001b[0;34m\u001b[0m\u001b[0;34m\u001b[0m\u001b[0m\n\u001b[0m\u001b[1;32m     70\u001b[0m         \u001b[0;32mexcept\u001b[0m \u001b[0mException\u001b[0m\u001b[0;34m:\u001b[0m\u001b[0;34m\u001b[0m\u001b[0;34m\u001b[0m\u001b[0m\n\u001b[1;32m     71\u001b[0m             \u001b[0mself\u001b[0m\u001b[0;34m.\u001b[0m\u001b[0mhandles\u001b[0m\u001b[0;34m.\u001b[0m\u001b[0mclose\u001b[0m\u001b[0;34m(\u001b[0m\u001b[0;34m)\u001b[0m\u001b[0;34m\u001b[0m\u001b[0;34m\u001b[0m\u001b[0m\n",
            "\u001b[0;32m/usr/local/lib/python3.7/dist-packages/pandas/_libs/parsers.pyx\u001b[0m in \u001b[0;36mpandas._libs.parsers.TextReader.__cinit__\u001b[0;34m()\u001b[0m\n",
            "\u001b[0;31mEmptyDataError\u001b[0m: No columns to parse from file"
          ]
        }
      ]
    },
    {
      "cell_type": "code",
      "source": [
        "# Exibir os dados dentro do csv aberto anteriormente"
      ],
      "metadata": {
        "id": "YAgqGs2V3Y5X"
      },
      "execution_count": null,
      "outputs": []
    },
    {
      "cell_type": "code",
      "source": [
        "# Realizar os calulos para salvar no csv final"
      ],
      "metadata": {
        "id": "oWheSbFQ3aQx"
      },
      "execution_count": null,
      "outputs": []
    },
    {
      "cell_type": "code",
      "source": [
        "# Salvar o csv versão final"
      ],
      "metadata": {
        "id": "kU6dSkpcFuTk"
      },
      "execution_count": null,
      "outputs": []
    },
    {
      "cell_type": "code",
      "source": [
        "# Dados retirados do site Apolo 11 - https://www.apolo11.com/atividade_solar.php\n",
        "\n",
        "df= pd.read_csv(\"TempestaV.csv\")\n",
        "\n",
        "# predição através das dados deste site"
      ],
      "metadata": {
        "id": "hWAGD9XaFgTC"
      },
      "execution_count": null,
      "outputs": []
    },
    {
      "cell_type": "code",
      "source": [
        "import pandas as pd\n",
        "data_df = pd.DataFrame(data = data.data,\n",
        "                       columns = data.feature_names)\n",
        "data_df.head().T"
      ],
      "metadata": {
        "colab": {
          "base_uri": "https://localhost:8080/",
          "height": 989
        },
        "id": "9mIuMGRX3fGS",
        "outputId": "7a36f9b9-f8fa-49d1-b4cc-e62f08eadab1"
      },
      "execution_count": null,
      "outputs": [
        {
          "output_type": "execute_result",
          "data": {
            "text/plain": [
              "                                   0            1            2           3  \\\n",
              "mean radius                17.990000    20.570000    19.690000   11.420000   \n",
              "mean texture               10.380000    17.770000    21.250000   20.380000   \n",
              "mean perimeter            122.800000   132.900000   130.000000   77.580000   \n",
              "mean area                1001.000000  1326.000000  1203.000000  386.100000   \n",
              "mean smoothness             0.118400     0.084740     0.109600    0.142500   \n",
              "mean compactness            0.277600     0.078640     0.159900    0.283900   \n",
              "mean concavity              0.300100     0.086900     0.197400    0.241400   \n",
              "mean concave points         0.147100     0.070170     0.127900    0.105200   \n",
              "mean symmetry               0.241900     0.181200     0.206900    0.259700   \n",
              "mean fractal dimension      0.078710     0.056670     0.059990    0.097440   \n",
              "radius error                1.095000     0.543500     0.745600    0.495600   \n",
              "texture error               0.905300     0.733900     0.786900    1.156000   \n",
              "perimeter error             8.589000     3.398000     4.585000    3.445000   \n",
              "area error                153.400000    74.080000    94.030000   27.230000   \n",
              "smoothness error            0.006399     0.005225     0.006150    0.009110   \n",
              "compactness error           0.049040     0.013080     0.040060    0.074580   \n",
              "concavity error             0.053730     0.018600     0.038320    0.056610   \n",
              "concave points error        0.015870     0.013400     0.020580    0.018670   \n",
              "symmetry error              0.030030     0.013890     0.022500    0.059630   \n",
              "fractal dimension error     0.006193     0.003532     0.004571    0.009208   \n",
              "worst radius               25.380000    24.990000    23.570000   14.910000   \n",
              "worst texture              17.330000    23.410000    25.530000   26.500000   \n",
              "worst perimeter           184.600000   158.800000   152.500000   98.870000   \n",
              "worst area               2019.000000  1956.000000  1709.000000  567.700000   \n",
              "worst smoothness            0.162200     0.123800     0.144400    0.209800   \n",
              "worst compactness           0.665600     0.186600     0.424500    0.866300   \n",
              "worst concavity             0.711900     0.241600     0.450400    0.686900   \n",
              "worst concave points        0.265400     0.186000     0.243000    0.257500   \n",
              "worst symmetry              0.460100     0.275000     0.361300    0.663800   \n",
              "worst fractal dimension     0.118900     0.089020     0.087580    0.173000   \n",
              "\n",
              "                                   4  \n",
              "mean radius                20.290000  \n",
              "mean texture               14.340000  \n",
              "mean perimeter            135.100000  \n",
              "mean area                1297.000000  \n",
              "mean smoothness             0.100300  \n",
              "mean compactness            0.132800  \n",
              "mean concavity              0.198000  \n",
              "mean concave points         0.104300  \n",
              "mean symmetry               0.180900  \n",
              "mean fractal dimension      0.058830  \n",
              "radius error                0.757200  \n",
              "texture error               0.781300  \n",
              "perimeter error             5.438000  \n",
              "area error                 94.440000  \n",
              "smoothness error            0.011490  \n",
              "compactness error           0.024610  \n",
              "concavity error             0.056880  \n",
              "concave points error        0.018850  \n",
              "symmetry error              0.017560  \n",
              "fractal dimension error     0.005115  \n",
              "worst radius               22.540000  \n",
              "worst texture              16.670000  \n",
              "worst perimeter           152.200000  \n",
              "worst area               1575.000000  \n",
              "worst smoothness            0.137400  \n",
              "worst compactness           0.205000  \n",
              "worst concavity             0.400000  \n",
              "worst concave points        0.162500  \n",
              "worst symmetry              0.236400  \n",
              "worst fractal dimension     0.076780  "
            ],
            "text/html": [
              "\n",
              "  <div id=\"df-30ea4a82-37e6-4d94-bb2f-a4b7fc93744f\">\n",
              "    <div class=\"colab-df-container\">\n",
              "      <div>\n",
              "<style scoped>\n",
              "    .dataframe tbody tr th:only-of-type {\n",
              "        vertical-align: middle;\n",
              "    }\n",
              "\n",
              "    .dataframe tbody tr th {\n",
              "        vertical-align: top;\n",
              "    }\n",
              "\n",
              "    .dataframe thead th {\n",
              "        text-align: right;\n",
              "    }\n",
              "</style>\n",
              "<table border=\"1\" class=\"dataframe\">\n",
              "  <thead>\n",
              "    <tr style=\"text-align: right;\">\n",
              "      <th></th>\n",
              "      <th>0</th>\n",
              "      <th>1</th>\n",
              "      <th>2</th>\n",
              "      <th>3</th>\n",
              "      <th>4</th>\n",
              "    </tr>\n",
              "  </thead>\n",
              "  <tbody>\n",
              "    <tr>\n",
              "      <th>mean radius</th>\n",
              "      <td>17.990000</td>\n",
              "      <td>20.570000</td>\n",
              "      <td>19.690000</td>\n",
              "      <td>11.420000</td>\n",
              "      <td>20.290000</td>\n",
              "    </tr>\n",
              "    <tr>\n",
              "      <th>mean texture</th>\n",
              "      <td>10.380000</td>\n",
              "      <td>17.770000</td>\n",
              "      <td>21.250000</td>\n",
              "      <td>20.380000</td>\n",
              "      <td>14.340000</td>\n",
              "    </tr>\n",
              "    <tr>\n",
              "      <th>mean perimeter</th>\n",
              "      <td>122.800000</td>\n",
              "      <td>132.900000</td>\n",
              "      <td>130.000000</td>\n",
              "      <td>77.580000</td>\n",
              "      <td>135.100000</td>\n",
              "    </tr>\n",
              "    <tr>\n",
              "      <th>mean area</th>\n",
              "      <td>1001.000000</td>\n",
              "      <td>1326.000000</td>\n",
              "      <td>1203.000000</td>\n",
              "      <td>386.100000</td>\n",
              "      <td>1297.000000</td>\n",
              "    </tr>\n",
              "    <tr>\n",
              "      <th>mean smoothness</th>\n",
              "      <td>0.118400</td>\n",
              "      <td>0.084740</td>\n",
              "      <td>0.109600</td>\n",
              "      <td>0.142500</td>\n",
              "      <td>0.100300</td>\n",
              "    </tr>\n",
              "    <tr>\n",
              "      <th>mean compactness</th>\n",
              "      <td>0.277600</td>\n",
              "      <td>0.078640</td>\n",
              "      <td>0.159900</td>\n",
              "      <td>0.283900</td>\n",
              "      <td>0.132800</td>\n",
              "    </tr>\n",
              "    <tr>\n",
              "      <th>mean concavity</th>\n",
              "      <td>0.300100</td>\n",
              "      <td>0.086900</td>\n",
              "      <td>0.197400</td>\n",
              "      <td>0.241400</td>\n",
              "      <td>0.198000</td>\n",
              "    </tr>\n",
              "    <tr>\n",
              "      <th>mean concave points</th>\n",
              "      <td>0.147100</td>\n",
              "      <td>0.070170</td>\n",
              "      <td>0.127900</td>\n",
              "      <td>0.105200</td>\n",
              "      <td>0.104300</td>\n",
              "    </tr>\n",
              "    <tr>\n",
              "      <th>mean symmetry</th>\n",
              "      <td>0.241900</td>\n",
              "      <td>0.181200</td>\n",
              "      <td>0.206900</td>\n",
              "      <td>0.259700</td>\n",
              "      <td>0.180900</td>\n",
              "    </tr>\n",
              "    <tr>\n",
              "      <th>mean fractal dimension</th>\n",
              "      <td>0.078710</td>\n",
              "      <td>0.056670</td>\n",
              "      <td>0.059990</td>\n",
              "      <td>0.097440</td>\n",
              "      <td>0.058830</td>\n",
              "    </tr>\n",
              "    <tr>\n",
              "      <th>radius error</th>\n",
              "      <td>1.095000</td>\n",
              "      <td>0.543500</td>\n",
              "      <td>0.745600</td>\n",
              "      <td>0.495600</td>\n",
              "      <td>0.757200</td>\n",
              "    </tr>\n",
              "    <tr>\n",
              "      <th>texture error</th>\n",
              "      <td>0.905300</td>\n",
              "      <td>0.733900</td>\n",
              "      <td>0.786900</td>\n",
              "      <td>1.156000</td>\n",
              "      <td>0.781300</td>\n",
              "    </tr>\n",
              "    <tr>\n",
              "      <th>perimeter error</th>\n",
              "      <td>8.589000</td>\n",
              "      <td>3.398000</td>\n",
              "      <td>4.585000</td>\n",
              "      <td>3.445000</td>\n",
              "      <td>5.438000</td>\n",
              "    </tr>\n",
              "    <tr>\n",
              "      <th>area error</th>\n",
              "      <td>153.400000</td>\n",
              "      <td>74.080000</td>\n",
              "      <td>94.030000</td>\n",
              "      <td>27.230000</td>\n",
              "      <td>94.440000</td>\n",
              "    </tr>\n",
              "    <tr>\n",
              "      <th>smoothness error</th>\n",
              "      <td>0.006399</td>\n",
              "      <td>0.005225</td>\n",
              "      <td>0.006150</td>\n",
              "      <td>0.009110</td>\n",
              "      <td>0.011490</td>\n",
              "    </tr>\n",
              "    <tr>\n",
              "      <th>compactness error</th>\n",
              "      <td>0.049040</td>\n",
              "      <td>0.013080</td>\n",
              "      <td>0.040060</td>\n",
              "      <td>0.074580</td>\n",
              "      <td>0.024610</td>\n",
              "    </tr>\n",
              "    <tr>\n",
              "      <th>concavity error</th>\n",
              "      <td>0.053730</td>\n",
              "      <td>0.018600</td>\n",
              "      <td>0.038320</td>\n",
              "      <td>0.056610</td>\n",
              "      <td>0.056880</td>\n",
              "    </tr>\n",
              "    <tr>\n",
              "      <th>concave points error</th>\n",
              "      <td>0.015870</td>\n",
              "      <td>0.013400</td>\n",
              "      <td>0.020580</td>\n",
              "      <td>0.018670</td>\n",
              "      <td>0.018850</td>\n",
              "    </tr>\n",
              "    <tr>\n",
              "      <th>symmetry error</th>\n",
              "      <td>0.030030</td>\n",
              "      <td>0.013890</td>\n",
              "      <td>0.022500</td>\n",
              "      <td>0.059630</td>\n",
              "      <td>0.017560</td>\n",
              "    </tr>\n",
              "    <tr>\n",
              "      <th>fractal dimension error</th>\n",
              "      <td>0.006193</td>\n",
              "      <td>0.003532</td>\n",
              "      <td>0.004571</td>\n",
              "      <td>0.009208</td>\n",
              "      <td>0.005115</td>\n",
              "    </tr>\n",
              "    <tr>\n",
              "      <th>worst radius</th>\n",
              "      <td>25.380000</td>\n",
              "      <td>24.990000</td>\n",
              "      <td>23.570000</td>\n",
              "      <td>14.910000</td>\n",
              "      <td>22.540000</td>\n",
              "    </tr>\n",
              "    <tr>\n",
              "      <th>worst texture</th>\n",
              "      <td>17.330000</td>\n",
              "      <td>23.410000</td>\n",
              "      <td>25.530000</td>\n",
              "      <td>26.500000</td>\n",
              "      <td>16.670000</td>\n",
              "    </tr>\n",
              "    <tr>\n",
              "      <th>worst perimeter</th>\n",
              "      <td>184.600000</td>\n",
              "      <td>158.800000</td>\n",
              "      <td>152.500000</td>\n",
              "      <td>98.870000</td>\n",
              "      <td>152.200000</td>\n",
              "    </tr>\n",
              "    <tr>\n",
              "      <th>worst area</th>\n",
              "      <td>2019.000000</td>\n",
              "      <td>1956.000000</td>\n",
              "      <td>1709.000000</td>\n",
              "      <td>567.700000</td>\n",
              "      <td>1575.000000</td>\n",
              "    </tr>\n",
              "    <tr>\n",
              "      <th>worst smoothness</th>\n",
              "      <td>0.162200</td>\n",
              "      <td>0.123800</td>\n",
              "      <td>0.144400</td>\n",
              "      <td>0.209800</td>\n",
              "      <td>0.137400</td>\n",
              "    </tr>\n",
              "    <tr>\n",
              "      <th>worst compactness</th>\n",
              "      <td>0.665600</td>\n",
              "      <td>0.186600</td>\n",
              "      <td>0.424500</td>\n",
              "      <td>0.866300</td>\n",
              "      <td>0.205000</td>\n",
              "    </tr>\n",
              "    <tr>\n",
              "      <th>worst concavity</th>\n",
              "      <td>0.711900</td>\n",
              "      <td>0.241600</td>\n",
              "      <td>0.450400</td>\n",
              "      <td>0.686900</td>\n",
              "      <td>0.400000</td>\n",
              "    </tr>\n",
              "    <tr>\n",
              "      <th>worst concave points</th>\n",
              "      <td>0.265400</td>\n",
              "      <td>0.186000</td>\n",
              "      <td>0.243000</td>\n",
              "      <td>0.257500</td>\n",
              "      <td>0.162500</td>\n",
              "    </tr>\n",
              "    <tr>\n",
              "      <th>worst symmetry</th>\n",
              "      <td>0.460100</td>\n",
              "      <td>0.275000</td>\n",
              "      <td>0.361300</td>\n",
              "      <td>0.663800</td>\n",
              "      <td>0.236400</td>\n",
              "    </tr>\n",
              "    <tr>\n",
              "      <th>worst fractal dimension</th>\n",
              "      <td>0.118900</td>\n",
              "      <td>0.089020</td>\n",
              "      <td>0.087580</td>\n",
              "      <td>0.173000</td>\n",
              "      <td>0.076780</td>\n",
              "    </tr>\n",
              "  </tbody>\n",
              "</table>\n",
              "</div>\n",
              "      <button class=\"colab-df-convert\" onclick=\"convertToInteractive('df-30ea4a82-37e6-4d94-bb2f-a4b7fc93744f')\"\n",
              "              title=\"Convert this dataframe to an interactive table.\"\n",
              "              style=\"display:none;\">\n",
              "        \n",
              "  <svg xmlns=\"http://www.w3.org/2000/svg\" height=\"24px\"viewBox=\"0 0 24 24\"\n",
              "       width=\"24px\">\n",
              "    <path d=\"M0 0h24v24H0V0z\" fill=\"none\"/>\n",
              "    <path d=\"M18.56 5.44l.94 2.06.94-2.06 2.06-.94-2.06-.94-.94-2.06-.94 2.06-2.06.94zm-11 1L8.5 8.5l.94-2.06 2.06-.94-2.06-.94L8.5 2.5l-.94 2.06-2.06.94zm10 10l.94 2.06.94-2.06 2.06-.94-2.06-.94-.94-2.06-.94 2.06-2.06.94z\"/><path d=\"M17.41 7.96l-1.37-1.37c-.4-.4-.92-.59-1.43-.59-.52 0-1.04.2-1.43.59L10.3 9.45l-7.72 7.72c-.78.78-.78 2.05 0 2.83L4 21.41c.39.39.9.59 1.41.59.51 0 1.02-.2 1.41-.59l7.78-7.78 2.81-2.81c.8-.78.8-2.07 0-2.86zM5.41 20L4 18.59l7.72-7.72 1.47 1.35L5.41 20z\"/>\n",
              "  </svg>\n",
              "      </button>\n",
              "      \n",
              "  <style>\n",
              "    .colab-df-container {\n",
              "      display:flex;\n",
              "      flex-wrap:wrap;\n",
              "      gap: 12px;\n",
              "    }\n",
              "\n",
              "    .colab-df-convert {\n",
              "      background-color: #E8F0FE;\n",
              "      border: none;\n",
              "      border-radius: 50%;\n",
              "      cursor: pointer;\n",
              "      display: none;\n",
              "      fill: #1967D2;\n",
              "      height: 32px;\n",
              "      padding: 0 0 0 0;\n",
              "      width: 32px;\n",
              "    }\n",
              "\n",
              "    .colab-df-convert:hover {\n",
              "      background-color: #E2EBFA;\n",
              "      box-shadow: 0px 1px 2px rgba(60, 64, 67, 0.3), 0px 1px 3px 1px rgba(60, 64, 67, 0.15);\n",
              "      fill: #174EA6;\n",
              "    }\n",
              "\n",
              "    [theme=dark] .colab-df-convert {\n",
              "      background-color: #3B4455;\n",
              "      fill: #D2E3FC;\n",
              "    }\n",
              "\n",
              "    [theme=dark] .colab-df-convert:hover {\n",
              "      background-color: #434B5C;\n",
              "      box-shadow: 0px 1px 3px 1px rgba(0, 0, 0, 0.15);\n",
              "      filter: drop-shadow(0px 1px 2px rgba(0, 0, 0, 0.3));\n",
              "      fill: #FFFFFF;\n",
              "    }\n",
              "  </style>\n",
              "\n",
              "      <script>\n",
              "        const buttonEl =\n",
              "          document.querySelector('#df-30ea4a82-37e6-4d94-bb2f-a4b7fc93744f button.colab-df-convert');\n",
              "        buttonEl.style.display =\n",
              "          google.colab.kernel.accessAllowed ? 'block' : 'none';\n",
              "\n",
              "        async function convertToInteractive(key) {\n",
              "          const element = document.querySelector('#df-30ea4a82-37e6-4d94-bb2f-a4b7fc93744f');\n",
              "          const dataTable =\n",
              "            await google.colab.kernel.invokeFunction('convertToInteractive',\n",
              "                                                     [key], {});\n",
              "          if (!dataTable) return;\n",
              "\n",
              "          const docLinkHtml = 'Like what you see? Visit the ' +\n",
              "            '<a target=\"_blank\" href=https://colab.research.google.com/notebooks/data_table.ipynb>data table notebook</a>'\n",
              "            + ' to learn more about interactive tables.';\n",
              "          element.innerHTML = '';\n",
              "          dataTable['output_type'] = 'display_data';\n",
              "          await google.colab.output.renderOutput(dataTable, element);\n",
              "          const docLink = document.createElement('div');\n",
              "          docLink.innerHTML = docLinkHtml;\n",
              "          element.appendChild(docLink);\n",
              "        }\n",
              "      </script>\n",
              "    </div>\n",
              "  </div>\n",
              "  "
            ]
          },
          "metadata": {},
          "execution_count": 48
        }
      ]
    },
    {
      "cell_type": "code",
      "source": [
        ""
      ],
      "metadata": {
        "id": "24LfRmxv3kDl"
      },
      "execution_count": null,
      "outputs": []
    },
    {
      "cell_type": "code",
      "source": [
        "# Organizar nossos dados\n",
        "label_names = data['target_names']\n",
        "labels = data['target']\n",
        "feature_names = data['feature_names']\n",
        "features = data['data']  \n",
        "  \n",
        "x = range(30)\n",
        "for y in x:\n",
        "    print(label_names)\n",
        "    print(labels[y])\n",
        "    print(feature_names[y])\n",
        "    print(features[y])"
      ],
      "metadata": {
        "colab": {
          "base_uri": "https://localhost:8080/",
          "height": 322
        },
        "id": "tvyiPOLopxzK",
        "outputId": "b1fdb485-14ac-4f60-f0b0-f9d63d3ebab5"
      },
      "execution_count": null,
      "outputs": [
        {
          "output_type": "error",
          "ename": "NameError",
          "evalue": "ignored",
          "traceback": [
            "\u001b[0;31m---------------------------------------------------------------------------\u001b[0m",
            "\u001b[0;31mNameError\u001b[0m                                 Traceback (most recent call last)",
            "\u001b[0;32m<ipython-input-1-7a717dfa344e>\u001b[0m in \u001b[0;36m<module>\u001b[0;34m\u001b[0m\n\u001b[1;32m      1\u001b[0m \u001b[0;31m# Organizar nossos dados\u001b[0m\u001b[0;34m\u001b[0m\u001b[0;34m\u001b[0m\u001b[0;34m\u001b[0m\u001b[0m\n\u001b[0;32m----> 2\u001b[0;31m \u001b[0mlabel_names\u001b[0m \u001b[0;34m=\u001b[0m \u001b[0mdata\u001b[0m\u001b[0;34m[\u001b[0m\u001b[0;34m'target_names'\u001b[0m\u001b[0;34m]\u001b[0m\u001b[0;34m\u001b[0m\u001b[0;34m\u001b[0m\u001b[0m\n\u001b[0m\u001b[1;32m      3\u001b[0m \u001b[0mlabels\u001b[0m \u001b[0;34m=\u001b[0m \u001b[0mdata\u001b[0m\u001b[0;34m[\u001b[0m\u001b[0;34m'target'\u001b[0m\u001b[0;34m]\u001b[0m\u001b[0;34m\u001b[0m\u001b[0;34m\u001b[0m\u001b[0m\n\u001b[1;32m      4\u001b[0m \u001b[0mfeature_names\u001b[0m \u001b[0;34m=\u001b[0m \u001b[0mdata\u001b[0m\u001b[0;34m[\u001b[0m\u001b[0;34m'feature_names'\u001b[0m\u001b[0;34m]\u001b[0m\u001b[0;34m\u001b[0m\u001b[0;34m\u001b[0m\u001b[0m\n\u001b[1;32m      5\u001b[0m \u001b[0mfeatures\u001b[0m \u001b[0;34m=\u001b[0m \u001b[0mdata\u001b[0m\u001b[0;34m[\u001b[0m\u001b[0;34m'data'\u001b[0m\u001b[0;34m]\u001b[0m\u001b[0;34m\u001b[0m\u001b[0;34m\u001b[0m\u001b[0m\n",
            "\u001b[0;31mNameError\u001b[0m: name 'data' is not defined"
          ]
        }
      ]
    },
    {
      "cell_type": "code",
      "source": [
        "from sklearn.model_selection import train_test_split\n",
        "\n",
        "# Dividir nossos dados\n",
        "train, test, train_labels, test_labels = train_test_split(features,\n",
        "                                                          labels,\n",
        "                                                          test_size=0.33,\n",
        "                                                          random_state=42)"
      ],
      "metadata": {
        "id": "SGEtIL18pyHd"
      },
      "execution_count": null,
      "outputs": []
    },
    {
      "cell_type": "code",
      "source": [
        "from sklearn.naive_bayes import GaussianNB\n",
        "\n",
        "# Inicializar nosso classificador\n",
        "gnb = GaussianNB()\n",
        "\n",
        "# Treinar nosso classificador\n",
        "model = gnb.fit(train, train_labels)"
      ],
      "metadata": {
        "id": "SXovHxvdqDb2"
      },
      "execution_count": null,
      "outputs": []
    },
    {
      "cell_type": "code",
      "source": [
        "# Fazer previsões\n",
        "preds = gnb.predict(test)\n",
        "print(preds)"
      ],
      "metadata": {
        "colab": {
          "base_uri": "https://localhost:8080/"
        },
        "id": "Y3FXYiFB02OF",
        "outputId": "71345379-31fe-43e5-cd25-be60eb67b9ad"
      },
      "execution_count": null,
      "outputs": [
        {
          "output_type": "stream",
          "name": "stdout",
          "text": [
            "[1 0 0 1 1 0 0 0 1 1 1 0 1 0 1 0 1 1 1 0 1 1 0 1 1 1 1 1 1 0 1 1 1 1 1 1 0\n",
            " 1 0 1 1 0 1 1 1 1 1 1 1 1 0 0 1 1 1 1 1 0 0 1 1 0 0 1 1 1 0 0 1 1 0 0 1 0\n",
            " 1 1 1 1 1 1 0 1 1 0 0 0 0 0 1 1 1 1 1 1 1 1 0 0 1 0 0 1 0 0 1 1 1 0 1 1 0\n",
            " 1 1 0 0 0 1 1 1 0 0 1 1 0 1 0 0 1 1 0 0 0 1 1 1 0 1 1 0 0 1 0 1 1 0 1 0 0\n",
            " 1 1 1 1 1 1 1 0 0 1 1 1 1 1 1 1 1 1 1 1 1 0 0 1 1 0 1 1 0 1 1 1 1 1 1 0 0\n",
            " 0 1 1]\n"
          ]
        }
      ]
    },
    {
      "cell_type": "code",
      "source": [
        "from sklearn.metrics import accuracy_score\n",
        "\n",
        "# Avaliar a precisão\n",
        "print(accuracy_score(test_labels, preds))"
      ],
      "metadata": {
        "colab": {
          "base_uri": "https://localhost:8080/"
        },
        "id": "Gysn_yOe0-kS",
        "outputId": "c34f52e5-5d7d-4f31-c89e-51ffa171d4bb"
      },
      "execution_count": null,
      "outputs": [
        {
          "output_type": "stream",
          "name": "stdout",
          "text": [
            "0.9414893617021277\n"
          ]
        }
      ]
    }
  ]
}